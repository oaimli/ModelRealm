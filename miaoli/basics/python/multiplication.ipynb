{
 "cells": [
  {
   "cell_type": "code",
   "execution_count": 8,
   "metadata": {},
   "outputs": [
    {
     "data": {
      "text/plain": [
       "278"
      ]
     },
     "execution_count": 8,
     "metadata": {},
     "output_type": "execute_result"
    }
   ],
   "source": [
    "import numpy as np\n",
    "\n",
    "v1 = np.array([9, 2, 5, 0, 0, 7, 5, 0, 0, 0, 9, 2, 5, 0, 0])\n",
    "v2 = np.array([9, 2, 2, 9, 0, 9, 2, 5, 0, 0, 9, 2, 5, 0, 0])\n",
    "w1 = np.random.rand(3, len(v1))\n",
    "w2 = np.random.rand(len(v2), 3)\n",
    "\n",
    "# dot product of vectors\n",
    "np.dot(v1, v2)"
   ]
  },
  {
   "cell_type": "code",
   "execution_count": 6,
   "metadata": {},
   "outputs": [
    {
     "data": {
      "text/plain": [
       "array([81,  4, 10,  0,  0, 63, 10,  0,  0,  0, 81,  4, 25,  0,  0])"
      ]
     },
     "execution_count": 6,
     "metadata": {},
     "output_type": "execute_result"
    }
   ],
   "source": [
    "# element-wise product of vectors\n",
    "v1 * v2"
   ]
  },
  {
   "cell_type": "code",
   "execution_count": 9,
   "metadata": {},
   "outputs": [
    {
     "data": {
      "text/plain": [
       "array([81,  4, 10,  0,  0, 63, 10,  0,  0,  0, 81,  4, 25,  0,  0])"
      ]
     },
     "execution_count": 9,
     "metadata": {},
     "output_type": "execute_result"
    }
   ],
   "source": [
    "# element-wise product of vectors\n",
    "np.multiply(v1, v2)"
   ]
  },
  {
   "cell_type": "code",
   "execution_count": 12,
   "metadata": {},
   "outputs": [
    {
     "data": {
      "text/plain": [
       "array([[81, 18, 18, 81,  0, 81, 18, 45,  0,  0, 81, 18, 45,  0,  0],\n",
       "       [18,  4,  4, 18,  0, 18,  4, 10,  0,  0, 18,  4, 10,  0,  0],\n",
       "       [45, 10, 10, 45,  0, 45, 10, 25,  0,  0, 45, 10, 25,  0,  0],\n",
       "       [ 0,  0,  0,  0,  0,  0,  0,  0,  0,  0,  0,  0,  0,  0,  0],\n",
       "       [ 0,  0,  0,  0,  0,  0,  0,  0,  0,  0,  0,  0,  0,  0,  0],\n",
       "       [63, 14, 14, 63,  0, 63, 14, 35,  0,  0, 63, 14, 35,  0,  0],\n",
       "       [45, 10, 10, 45,  0, 45, 10, 25,  0,  0, 45, 10, 25,  0,  0],\n",
       "       [ 0,  0,  0,  0,  0,  0,  0,  0,  0,  0,  0,  0,  0,  0,  0],\n",
       "       [ 0,  0,  0,  0,  0,  0,  0,  0,  0,  0,  0,  0,  0,  0,  0],\n",
       "       [ 0,  0,  0,  0,  0,  0,  0,  0,  0,  0,  0,  0,  0,  0,  0],\n",
       "       [81, 18, 18, 81,  0, 81, 18, 45,  0,  0, 81, 18, 45,  0,  0],\n",
       "       [18,  4,  4, 18,  0, 18,  4, 10,  0,  0, 18,  4, 10,  0,  0],\n",
       "       [45, 10, 10, 45,  0, 45, 10, 25,  0,  0, 45, 10, 25,  0,  0],\n",
       "       [ 0,  0,  0,  0,  0,  0,  0,  0,  0,  0,  0,  0,  0,  0,  0],\n",
       "       [ 0,  0,  0,  0,  0,  0,  0,  0,  0,  0,  0,  0,  0,  0,  0]])"
      ]
     },
     "execution_count": 12,
     "metadata": {},
     "output_type": "execute_result"
    }
   ],
   "source": [
    "# outer product of vectors\n",
    "np.outer(v1, v2)"
   ]
  },
  {
   "cell_type": "code",
   "execution_count": 23,
   "metadata": {},
   "outputs": [
    {
     "data": {
      "text/plain": [
       "(15,)"
      ]
     },
     "execution_count": 23,
     "metadata": {},
     "output_type": "execute_result"
    }
   ],
   "source": [
    "# cross product of vectors, result a vector, which is perpendicular to v1 and v2\n",
    "\n",
    "np.shape(v1)\n",
    "v1.reshape((15, 1))\n",
    "np.shape(v1)"
   ]
  },
  {
   "cell_type": "code",
   "execution_count": 27,
   "metadata": {},
   "outputs": [
    {
     "data": {
      "text/plain": [
       "array([[3.5015541 , 1.93306913, 3.6808631 , 0.        , 0.        ,\n",
       "        6.75807826, 2.29454848, 0.        , 0.        , 0.        ,\n",
       "        7.68625262, 1.91149312, 2.07047496, 0.        , 0.        ],\n",
       "       [2.36420494, 1.6840849 , 4.7072198 , 0.        , 0.        ,\n",
       "        4.4008629 , 1.4529265 , 0.        , 0.        , 0.        ,\n",
       "        6.34759018, 0.67608288, 1.81407355, 0.        , 0.        ],\n",
       "       [3.16441354, 1.46860886, 4.86095352, 0.        , 0.        ,\n",
       "        1.56921882, 4.66673539, 0.        , 0.        , 0.        ,\n",
       "        8.29936549, 0.35467611, 2.62364131, 0.        , 0.        ]])"
      ]
     },
     "execution_count": 27,
     "metadata": {},
     "output_type": "execute_result"
    }
   ],
   "source": [
    "np.multiply(w1, v1)"
   ]
  },
  {
   "cell_type": "code",
   "execution_count": 32,
   "metadata": {},
   "outputs": [
    {
     "data": {
      "text/plain": [
       "array([[29.83633377],\n",
       "       [23.44704565],\n",
       "       [27.00761303]])"
      ]
     },
     "execution_count": 32,
     "metadata": {},
     "output_type": "execute_result"
    }
   ],
   "source": [
    "np.dot(w1, v1[:,None])"
   ]
  },
  {
   "cell_type": "code",
   "execution_count": 28,
   "metadata": {},
   "outputs": [
    {
     "data": {
      "text/plain": [
       "array([[2.8157563 , 4.29476544, 3.83455691],\n",
       "       [2.29481274, 3.44354515, 2.66382001],\n",
       "       [3.44363454, 4.32893394, 3.24079068]])"
      ]
     },
     "execution_count": 28,
     "metadata": {},
     "output_type": "execute_result"
    }
   ],
   "source": [
    "np.dot(w1, w2)"
   ]
  },
  {
   "cell_type": "code",
   "execution_count": 30,
   "metadata": {},
   "outputs": [
    {
     "data": {
      "text/plain": [
       "array([[0.12183806, 0.13806827, 0.25095597, 0.13786449, 0.23850478,\n",
       "        0.20431212, 0.18828749, 0.17240312, 0.04270323, 0.12593792,\n",
       "        0.63010076, 0.02378445, 0.37284743, 0.15094156, 0.01720662],\n",
       "       [0.11248555, 0.49652473, 0.82692522, 0.13423363, 0.26217997,\n",
       "        0.52855921, 0.19614677, 0.08713307, 0.13456593, 0.01301103,\n",
       "        0.22680056, 0.00319429, 0.05016182, 0.07184283, 0.29978054],\n",
       "       [0.06879529, 0.57096173, 0.08142273, 0.14397046, 0.54692101,\n",
       "        0.01521715, 0.12656588, 0.32638744, 0.30356555, 0.00938764,\n",
       "        0.0912353 , 0.17528872, 0.37094587, 0.0629801 , 0.34714582]])"
      ]
     },
     "execution_count": 30,
     "metadata": {},
     "output_type": "execute_result"
    }
   ],
   "source": [
    "np.multiply(w1, w2.T)"
   ]
  },
  {
   "cell_type": "code",
   "execution_count": 34,
   "metadata": {},
   "outputs": [
    {
     "data": {
      "text/plain": [
       "array([[0.12183806, 0.13806827, 0.25095597, 0.13786449, 0.23850478,\n",
       "        0.20431212, 0.18828749, 0.17240312, 0.04270323, 0.12593792,\n",
       "        0.63010076, 0.02378445, 0.37284743, 0.15094156, 0.01720662],\n",
       "       [0.11248555, 0.49652473, 0.82692522, 0.13423363, 0.26217997,\n",
       "        0.52855921, 0.19614677, 0.08713307, 0.13456593, 0.01301103,\n",
       "        0.22680056, 0.00319429, 0.05016182, 0.07184283, 0.29978054],\n",
       "       [0.06879529, 0.57096173, 0.08142273, 0.14397046, 0.54692101,\n",
       "        0.01521715, 0.12656588, 0.32638744, 0.30356555, 0.00938764,\n",
       "        0.0912353 , 0.17528872, 0.37094587, 0.0629801 , 0.34714582]])"
      ]
     },
     "execution_count": 34,
     "metadata": {},
     "output_type": "execute_result"
    }
   ],
   "source": [
    "w1 * w2.T"
   ]
  },
  {
   "cell_type": "code",
   "execution_count": null,
   "metadata": {},
   "outputs": [],
   "source": []
  }
 ],
 "metadata": {
  "kernelspec": {
   "display_name": "Python 3",
   "language": "python",
   "name": "python3"
  },
  "language_info": {
   "codemirror_mode": {
    "name": "ipython",
    "version": 3
   },
   "file_extension": ".py",
   "mimetype": "text/x-python",
   "name": "python",
   "nbconvert_exporter": "python",
   "pygments_lexer": "ipython3",
   "version": "3.6.6"
  }
 },
 "nbformat": 4,
 "nbformat_minor": 2
}
